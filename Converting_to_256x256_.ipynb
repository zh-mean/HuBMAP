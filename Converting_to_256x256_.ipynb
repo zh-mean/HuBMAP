{
  "nbformat": 4,
  "nbformat_minor": 0,
  "metadata": {
    "colab": {
      "name": "Converting to 256x256 .ipynb",
      "provenance": [],
      "authorship_tag": "ABX9TyPvyjRat7u+oRXG97v0Uhoq",
      "include_colab_link": true
    },
    "kernelspec": {
      "name": "python3",
      "display_name": "Python 3"
    },
    "language_info": {
      "name": "python"
    }
  },
  "cells": [
    {
      "cell_type": "markdown",
      "metadata": {
        "id": "view-in-github",
        "colab_type": "text"
      },
      "source": [
        "<a href=\"https://colab.research.google.com/github/zh-mean/HuBMAP/blob/main/Converting_to_256x256_.ipynb\" target=\"_parent\"><img src=\"https://colab.research.google.com/assets/colab-badge.svg\" alt=\"Open In Colab\"/></a>"
      ]
    },
    {
      "cell_type": "code",
      "execution_count": null,
      "metadata": {
        "id": "cmXsigkxQQTr"
      },
      "outputs": [],
      "source": [
        ""
      ]
    }
  ]
}